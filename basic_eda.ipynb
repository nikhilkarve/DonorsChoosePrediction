{
 "cells": [
  {
   "cell_type": "markdown",
   "id": "1ffeae5f",
   "metadata": {},
   "source": [
    "## Project Understanding.\n",
    "### DonorsChoose\n",
    "DonorsChoose.org receives hundreds of thousands of project proposals each year for classroom projects in need of funding. Right now, a large number of volunteers is needed to manually screen each submission before it's approved to be posted on the DonorsChoose.org website."
   ]
  },
  {
   "cell_type": "markdown",
   "id": "652e9bba",
   "metadata": {},
   "source": [
    "## Problem \n",
    "Next year, DonorsChoose.org expects to receive close to 500,000 project proposals. As a result, there are three main problems they need to solve:\n",
    "- How to scale current manual processes and resources to screen 500,000 projects so that they can be posted as quickly and as efficiently as possible\n",
    "- How to increase the consistency of project vetting across different volunteers to improve the experience for teachers\n",
    "- How to focus volunteer time on the applications that need the most assistance\n",
    "\n",
    "### Obective \n",
    "- The objective here is to predict whether or not a DonorsChoose.org project proposal submitted by a teacher will be approved, using the text of project descriptions as well as additional metadata about the project, teacher, and school."
   ]
  },
  {
   "cell_type": "code",
   "execution_count": 204,
   "id": "3abfffa6",
   "metadata": {},
   "outputs": [
    {
     "data": {
      "text/plain": [
       "<Figure size 1080x576 with 0 Axes>"
      ]
     },
     "execution_count": 204,
     "metadata": {},
     "output_type": "execute_result"
    },
    {
     "data": {
      "text/plain": [
       "<Figure size 1080x576 with 0 Axes>"
      ]
     },
     "metadata": {},
     "output_type": "display_data"
    }
   ],
   "source": [
    "# Importing everything.\n",
    "%matplotlib inline\n",
    "import warnings\n",
    "warnings.filterwarnings(\"ignore\")\n",
    "\n",
    "import sqlite3\n",
    "import pandas as pd\n",
    "import numpy as np\n",
    "import nltk\n",
    "import string\n",
    "import matplotlib.pyplot as plt\n",
    "import seaborn as sns\n",
    "from sklearn.feature_extraction.text import TfidfTransformer\n",
    "from sklearn.feature_extraction.text import TfidfVectorizer\n",
    "\n",
    "from sklearn.feature_extraction.text import CountVectorizer\n",
    "from sklearn.metrics import confusion_matrix\n",
    "from sklearn import metrics\n",
    "from sklearn.metrics import roc_curve, auc\n",
    "from nltk.stem.porter import PorterStemmer\n",
    "\n",
    "import re\n",
    "# Tutorial about Python regular expressions: https://pymotw.com/2/re/\n",
    "import string\n",
    "from nltk.corpus import stopwords\n",
    "from nltk.stem import PorterStemmer\n",
    "from nltk.stem.wordnet import WordNetLemmatizer\n",
    "\n",
    "from gensim.models import Word2Vec\n",
    "from gensim.models import KeyedVectors\n",
    "import pickle\n",
    "\n",
    "from tqdm import tqdm\n",
    "import os\n",
    "\n",
    "# from plotly import plotly\n",
    "# import plotly.offline as offline\n",
    "# import plotly.graph_objs as go\n",
    "# offline.init_notebook_mode()\n",
    "# from collections import Counter\n",
    "plt.figure(figsize=(15,8))"
   ]
  },
  {
   "cell_type": "markdown",
   "id": "0f10893d",
   "metadata": {},
   "source": [
    "### Getting Data"
   ]
  },
  {
   "cell_type": "code",
   "execution_count": 205,
   "id": "903fe887",
   "metadata": {},
   "outputs": [],
   "source": [
    "project_df = pd.read_csv('train_data.csv')\n",
    "desc_df = pd.read_csv('resources.csv')"
   ]
  },
  {
   "cell_type": "code",
   "execution_count": 206,
   "id": "52225a95",
   "metadata": {},
   "outputs": [
    {
     "data": {
      "text/html": [
       "<div>\n",
       "<style scoped>\n",
       "    .dataframe tbody tr th:only-of-type {\n",
       "        vertical-align: middle;\n",
       "    }\n",
       "\n",
       "    .dataframe tbody tr th {\n",
       "        vertical-align: top;\n",
       "    }\n",
       "\n",
       "    .dataframe thead th {\n",
       "        text-align: right;\n",
       "    }\n",
       "</style>\n",
       "<table border=\"1\" class=\"dataframe\">\n",
       "  <thead>\n",
       "    <tr style=\"text-align: right;\">\n",
       "      <th></th>\n",
       "      <th>Unnamed: 0</th>\n",
       "      <th>id</th>\n",
       "      <th>teacher_id</th>\n",
       "      <th>teacher_prefix</th>\n",
       "      <th>school_state</th>\n",
       "      <th>project_submitted_datetime</th>\n",
       "      <th>project_grade_category</th>\n",
       "      <th>project_subject_categories</th>\n",
       "      <th>project_subject_subcategories</th>\n",
       "      <th>project_title</th>\n",
       "      <th>project_essay_1</th>\n",
       "      <th>project_essay_2</th>\n",
       "      <th>project_essay_3</th>\n",
       "      <th>project_essay_4</th>\n",
       "      <th>project_resource_summary</th>\n",
       "      <th>teacher_number_of_previously_posted_projects</th>\n",
       "      <th>project_is_approved</th>\n",
       "    </tr>\n",
       "  </thead>\n",
       "  <tbody>\n",
       "    <tr>\n",
       "      <th>0</th>\n",
       "      <td>160221</td>\n",
       "      <td>p253737</td>\n",
       "      <td>c90749f5d961ff158d4b4d1e7dc665fc</td>\n",
       "      <td>Mrs.</td>\n",
       "      <td>IN</td>\n",
       "      <td>2016-12-05 13:43:57</td>\n",
       "      <td>Grades PreK-2</td>\n",
       "      <td>Literacy &amp; Language</td>\n",
       "      <td>ESL, Literacy</td>\n",
       "      <td>Educational Support for English Learners at Home</td>\n",
       "      <td>My students are English learners that are work...</td>\n",
       "      <td>\\\"The limits of your language are the limits o...</td>\n",
       "      <td>NaN</td>\n",
       "      <td>NaN</td>\n",
       "      <td>My students need opportunities to practice beg...</td>\n",
       "      <td>0</td>\n",
       "      <td>0</td>\n",
       "    </tr>\n",
       "    <tr>\n",
       "      <th>1</th>\n",
       "      <td>140945</td>\n",
       "      <td>p258326</td>\n",
       "      <td>897464ce9ddc600bced1151f324dd63a</td>\n",
       "      <td>Mr.</td>\n",
       "      <td>FL</td>\n",
       "      <td>2016-10-25 09:22:10</td>\n",
       "      <td>Grades 6-8</td>\n",
       "      <td>History &amp; Civics, Health &amp; Sports</td>\n",
       "      <td>Civics &amp; Government, Team Sports</td>\n",
       "      <td>Wanted: Projector for Hungry Learners</td>\n",
       "      <td>Our students arrive to our school eager to lea...</td>\n",
       "      <td>The projector we need for our school is very c...</td>\n",
       "      <td>NaN</td>\n",
       "      <td>NaN</td>\n",
       "      <td>My students need a projector to help with view...</td>\n",
       "      <td>7</td>\n",
       "      <td>1</td>\n",
       "    </tr>\n",
       "    <tr>\n",
       "      <th>2</th>\n",
       "      <td>21895</td>\n",
       "      <td>p182444</td>\n",
       "      <td>3465aaf82da834c0582ebd0ef8040ca0</td>\n",
       "      <td>Ms.</td>\n",
       "      <td>AZ</td>\n",
       "      <td>2016-08-31 12:03:56</td>\n",
       "      <td>Grades 6-8</td>\n",
       "      <td>Health &amp; Sports</td>\n",
       "      <td>Health &amp; Wellness, Team Sports</td>\n",
       "      <td>Soccer Equipment for AWESOME Middle School Stu...</td>\n",
       "      <td>\\r\\n\\\"True champions aren't always the ones th...</td>\n",
       "      <td>The students on the campus come to school know...</td>\n",
       "      <td>NaN</td>\n",
       "      <td>NaN</td>\n",
       "      <td>My students need shine guards, athletic socks,...</td>\n",
       "      <td>1</td>\n",
       "      <td>0</td>\n",
       "    </tr>\n",
       "    <tr>\n",
       "      <th>3</th>\n",
       "      <td>45</td>\n",
       "      <td>p246581</td>\n",
       "      <td>f3cb9bffbba169bef1a77b243e620b60</td>\n",
       "      <td>Mrs.</td>\n",
       "      <td>KY</td>\n",
       "      <td>2016-10-06 21:16:17</td>\n",
       "      <td>Grades PreK-2</td>\n",
       "      <td>Literacy &amp; Language, Math &amp; Science</td>\n",
       "      <td>Literacy, Mathematics</td>\n",
       "      <td>Techie Kindergarteners</td>\n",
       "      <td>I work at a unique school filled with both ESL...</td>\n",
       "      <td>My students live in high poverty conditions wi...</td>\n",
       "      <td>NaN</td>\n",
       "      <td>NaN</td>\n",
       "      <td>My students need to engage in Reading and Math...</td>\n",
       "      <td>4</td>\n",
       "      <td>1</td>\n",
       "    </tr>\n",
       "    <tr>\n",
       "      <th>4</th>\n",
       "      <td>172407</td>\n",
       "      <td>p104768</td>\n",
       "      <td>be1f7507a41f8479dc06f047086a39ec</td>\n",
       "      <td>Mrs.</td>\n",
       "      <td>TX</td>\n",
       "      <td>2016-07-11 01:10:09</td>\n",
       "      <td>Grades PreK-2</td>\n",
       "      <td>Math &amp; Science</td>\n",
       "      <td>Mathematics</td>\n",
       "      <td>Interactive Math Tools</td>\n",
       "      <td>Our second grade classroom next year will be m...</td>\n",
       "      <td>For many students, math is a subject that does...</td>\n",
       "      <td>NaN</td>\n",
       "      <td>NaN</td>\n",
       "      <td>My students need hands on practice in mathemat...</td>\n",
       "      <td>1</td>\n",
       "      <td>1</td>\n",
       "    </tr>\n",
       "  </tbody>\n",
       "</table>\n",
       "</div>"
      ],
      "text/plain": [
       "   Unnamed: 0       id                        teacher_id teacher_prefix  \\\n",
       "0      160221  p253737  c90749f5d961ff158d4b4d1e7dc665fc           Mrs.   \n",
       "1      140945  p258326  897464ce9ddc600bced1151f324dd63a            Mr.   \n",
       "2       21895  p182444  3465aaf82da834c0582ebd0ef8040ca0            Ms.   \n",
       "3          45  p246581  f3cb9bffbba169bef1a77b243e620b60           Mrs.   \n",
       "4      172407  p104768  be1f7507a41f8479dc06f047086a39ec           Mrs.   \n",
       "\n",
       "  school_state project_submitted_datetime project_grade_category  \\\n",
       "0           IN        2016-12-05 13:43:57          Grades PreK-2   \n",
       "1           FL        2016-10-25 09:22:10             Grades 6-8   \n",
       "2           AZ        2016-08-31 12:03:56             Grades 6-8   \n",
       "3           KY        2016-10-06 21:16:17          Grades PreK-2   \n",
       "4           TX        2016-07-11 01:10:09          Grades PreK-2   \n",
       "\n",
       "            project_subject_categories     project_subject_subcategories  \\\n",
       "0                  Literacy & Language                     ESL, Literacy   \n",
       "1    History & Civics, Health & Sports  Civics & Government, Team Sports   \n",
       "2                      Health & Sports    Health & Wellness, Team Sports   \n",
       "3  Literacy & Language, Math & Science             Literacy, Mathematics   \n",
       "4                       Math & Science                       Mathematics   \n",
       "\n",
       "                                       project_title  \\\n",
       "0   Educational Support for English Learners at Home   \n",
       "1              Wanted: Projector for Hungry Learners   \n",
       "2  Soccer Equipment for AWESOME Middle School Stu...   \n",
       "3                             Techie Kindergarteners   \n",
       "4                             Interactive Math Tools   \n",
       "\n",
       "                                     project_essay_1  \\\n",
       "0  My students are English learners that are work...   \n",
       "1  Our students arrive to our school eager to lea...   \n",
       "2  \\r\\n\\\"True champions aren't always the ones th...   \n",
       "3  I work at a unique school filled with both ESL...   \n",
       "4  Our second grade classroom next year will be m...   \n",
       "\n",
       "                                     project_essay_2 project_essay_3  \\\n",
       "0  \\\"The limits of your language are the limits o...             NaN   \n",
       "1  The projector we need for our school is very c...             NaN   \n",
       "2  The students on the campus come to school know...             NaN   \n",
       "3  My students live in high poverty conditions wi...             NaN   \n",
       "4  For many students, math is a subject that does...             NaN   \n",
       "\n",
       "  project_essay_4                           project_resource_summary  \\\n",
       "0             NaN  My students need opportunities to practice beg...   \n",
       "1             NaN  My students need a projector to help with view...   \n",
       "2             NaN  My students need shine guards, athletic socks,...   \n",
       "3             NaN  My students need to engage in Reading and Math...   \n",
       "4             NaN  My students need hands on practice in mathemat...   \n",
       "\n",
       "   teacher_number_of_previously_posted_projects  project_is_approved  \n",
       "0                                             0                    0  \n",
       "1                                             7                    1  \n",
       "2                                             1                    0  \n",
       "3                                             4                    1  \n",
       "4                                             1                    1  "
      ]
     },
     "execution_count": 206,
     "metadata": {},
     "output_type": "execute_result"
    }
   ],
   "source": [
    "project_df.head()"
   ]
  },
  {
   "cell_type": "code",
   "execution_count": 207,
   "id": "d4b9aab3",
   "metadata": {},
   "outputs": [
    {
     "data": {
      "text/html": [
       "<div>\n",
       "<style scoped>\n",
       "    .dataframe tbody tr th:only-of-type {\n",
       "        vertical-align: middle;\n",
       "    }\n",
       "\n",
       "    .dataframe tbody tr th {\n",
       "        vertical-align: top;\n",
       "    }\n",
       "\n",
       "    .dataframe thead th {\n",
       "        text-align: right;\n",
       "    }\n",
       "</style>\n",
       "<table border=\"1\" class=\"dataframe\">\n",
       "  <thead>\n",
       "    <tr style=\"text-align: right;\">\n",
       "      <th></th>\n",
       "      <th>id</th>\n",
       "      <th>description</th>\n",
       "      <th>quantity</th>\n",
       "      <th>price</th>\n",
       "    </tr>\n",
       "  </thead>\n",
       "  <tbody>\n",
       "    <tr>\n",
       "      <th>0</th>\n",
       "      <td>p233245</td>\n",
       "      <td>LC652 - Lakeshore Double-Space Mobile Drying Rack</td>\n",
       "      <td>1</td>\n",
       "      <td>149.00</td>\n",
       "    </tr>\n",
       "    <tr>\n",
       "      <th>1</th>\n",
       "      <td>p069063</td>\n",
       "      <td>Bouncy Bands for Desks (Blue support pipes)</td>\n",
       "      <td>3</td>\n",
       "      <td>14.95</td>\n",
       "    </tr>\n",
       "    <tr>\n",
       "      <th>2</th>\n",
       "      <td>p069063</td>\n",
       "      <td>Cory Stories: A Kid's Book About Living With Adhd</td>\n",
       "      <td>1</td>\n",
       "      <td>8.45</td>\n",
       "    </tr>\n",
       "    <tr>\n",
       "      <th>3</th>\n",
       "      <td>p069063</td>\n",
       "      <td>Dixon Ticonderoga Wood-Cased #2 HB Pencils, Bo...</td>\n",
       "      <td>2</td>\n",
       "      <td>13.59</td>\n",
       "    </tr>\n",
       "    <tr>\n",
       "      <th>4</th>\n",
       "      <td>p069063</td>\n",
       "      <td>EDUCATIONAL INSIGHTS FLUORESCENT LIGHT FILTERS...</td>\n",
       "      <td>3</td>\n",
       "      <td>24.95</td>\n",
       "    </tr>\n",
       "  </tbody>\n",
       "</table>\n",
       "</div>"
      ],
      "text/plain": [
       "        id                                        description  quantity  \\\n",
       "0  p233245  LC652 - Lakeshore Double-Space Mobile Drying Rack         1   \n",
       "1  p069063        Bouncy Bands for Desks (Blue support pipes)         3   \n",
       "2  p069063  Cory Stories: A Kid's Book About Living With Adhd         1   \n",
       "3  p069063  Dixon Ticonderoga Wood-Cased #2 HB Pencils, Bo...         2   \n",
       "4  p069063  EDUCATIONAL INSIGHTS FLUORESCENT LIGHT FILTERS...         3   \n",
       "\n",
       "    price  \n",
       "0  149.00  \n",
       "1   14.95  \n",
       "2    8.45  \n",
       "3   13.59  \n",
       "4   24.95  "
      ]
     },
     "execution_count": 207,
     "metadata": {},
     "output_type": "execute_result"
    }
   ],
   "source": [
    "desc_df.head()"
   ]
  },
  {
   "cell_type": "code",
   "execution_count": 208,
   "id": "2c8ceae8",
   "metadata": {},
   "outputs": [
    {
     "name": "stdout",
     "output_type": "stream",
     "text": [
      "train_data.csv has 109248 rows and 17 columns\n",
      "resource.csv has 1541272 rows and 4 columns\n",
      "---------------------------------------------\n",
      "Features in train_data.csv: \n",
      "['Unnamed: 0', 'id', 'teacher_id', 'teacher_prefix', 'school_state', 'project_submitted_datetime', 'project_grade_category', 'project_subject_categories', 'project_subject_subcategories', 'project_title', 'project_essay_1', 'project_essay_2', 'project_essay_3', 'project_essay_4', 'project_resource_summary', 'teacher_number_of_previously_posted_projects', 'project_is_approved']\n",
      "Total number of features 17\n",
      "---------------------------------------------\n",
      "Features in resource.csv: \n",
      "['id', 'description', 'quantity', 'price']\n",
      "Total number of features 4\n"
     ]
    }
   ],
   "source": [
    "print('train_data.csv has {} rows and {} columns'.format(project_df.shape[0], project_df.shape[1]))\n",
    "print('resource.csv has {} rows and {} columns'.format(desc_df.shape[0], desc_df.shape[1]))\n",
    "pr_features = list(project_df.columns)\n",
    "des_features = list(desc_df.columns)\n",
    "print(\"---------------------------------------------\")\n",
    "print(\"Features in train_data.csv: \")\n",
    "print(pr_features)\n",
    "print(\"Total number of features {}\".format(len(pr_features)))\n",
    "print(\"---------------------------------------------\")\n",
    "print(\"Features in resource.csv: \")\n",
    "print(des_features)\n",
    "print(\"Total number of features {}\".format(len(des_features)))"
   ]
  },
  {
   "cell_type": "code",
   "execution_count": 209,
   "id": "45a2bc4e",
   "metadata": {},
   "outputs": [
    {
     "name": "stdout",
     "output_type": "stream",
     "text": [
      "Number of projects approved: 92706 (84.85830404217927 %)\n",
      "Number of projects disapproved: 16542 (15.141695957820739 %)\n"
     ]
    }
   ],
   "source": [
    "approved_projects = project_df[project_df['project_is_approved'] == 1]\n",
    "print(\"Number of projects approved: {} ({} %)\".format(len(approved_projects), len(approved_projects) / len(project_df) * 100))\n",
    "print(\"Number of projects disapproved: {} ({} %)\".format(len(project_df) - len(approved_projects), (len(project_df) - len(approved_projects))/len(project_df)*100))"
   ]
  },
  {
   "cell_type": "markdown",
   "id": "c3287b57",
   "metadata": {},
   "source": [
    "### Performing univariate analysis:"
   ]
  },
  {
   "cell_type": "markdown",
   "id": "7e743057",
   "metadata": {},
   "source": [
    "- #### School State:"
   ]
  },
  {
   "cell_type": "code",
   "execution_count": 210,
   "id": "ff7aa9f5",
   "metadata": {},
   "outputs": [],
   "source": [
    "school_projects = project_df.groupby('school_state')['project_is_approved'].apply(np.mean)\n"
   ]
  },
  {
   "cell_type": "code",
   "execution_count": 211,
   "id": "3dbb09ef",
   "metadata": {},
   "outputs": [],
   "source": [
    "school_projects=school_projects.reset_index()"
   ]
  },
  {
   "cell_type": "code",
   "execution_count": 212,
   "id": "c06ddd96",
   "metadata": {},
   "outputs": [],
   "source": [
    "school_projects.sort_values(by='project_is_approved', inplace=True, ascending=False)"
   ]
  },
  {
   "cell_type": "code",
   "execution_count": 213,
   "id": "d0858503",
   "metadata": {},
   "outputs": [],
   "source": [
    "school_projects['project_is_approved'] = school_projects['project_is_approved']*100"
   ]
  },
  {
   "cell_type": "code",
   "execution_count": 214,
   "id": "6cd2a580",
   "metadata": {},
   "outputs": [
    {
     "data": {
      "text/plain": [
       "84.81205441795778"
      ]
     },
     "execution_count": 214,
     "metadata": {},
     "output_type": "execute_result"
    }
   ],
   "source": [
    "np.mean(school_projects['project_is_approved'])"
   ]
  },
  {
   "cell_type": "code",
   "execution_count": 215,
   "id": "88ac5022",
   "metadata": {},
   "outputs": [
    {
     "name": "stdout",
     "output_type": "stream",
     "text": [
      "5 Highest approvals: \n",
      "   school_state  project_is_approved\n",
      "8            DE            89.795918\n",
      "28           ND            88.811189\n",
      "47           WA            87.617823\n",
      "35           OH            87.515201\n",
      "30           NH            87.356322\n",
      "-------------------------\n",
      "5 Lowest approvals: \n",
      "   school_state  project_is_approved\n",
      "18           LA            83.124478\n",
      "26           MT            81.632653\n",
      "43           TX            81.314224\n",
      "7            DC            80.232558\n",
      "46           VT            80.000000\n"
     ]
    }
   ],
   "source": [
    "print('5 Highest approvals: ')\n",
    "print(school_projects.head())\n",
    "print('-------------------------')\n",
    "print('5 Lowest approvals: ')\n",
    "print(school_projects.tail())"
   ]
  },
  {
   "cell_type": "code",
   "execution_count": 216,
   "id": "4512e5d2",
   "metadata": {},
   "outputs": [],
   "source": [
    "#stacked bar plots matplotlib: https://matplotlib.org/gallery/lines_bars_and_markers/bar_stacked.html\n",
    "def stack_plot(data, xtick, col2='project_is_approved', col3='total'):\n",
    "    ind = np.arange(data.shape[0])\n",
    "    \n",
    "    plt.figure(figsize=(20,5))\n",
    "    p1 = plt.bar(ind, data[col3].values)\n",
    "    p2 = plt.bar(ind, data[col2].values)\n",
    "\n",
    "    plt.ylabel('Projects')\n",
    "    plt.title('% of projects aproved state wise')\n",
    "    plt.xticks(ind, list(data[xtick].values))\n",
    "    plt.legend((p1[0], p2[0]), ('total', 'accepted'))\n",
    "    plt.show()"
   ]
  },
  {
   "cell_type": "markdown",
   "id": "edc2a364",
   "metadata": {},
   "source": [
    "Every state has more than or equal to 80% rate of approval."
   ]
  },
  {
   "cell_type": "code",
   "execution_count": 217,
   "id": "11ea5eea",
   "metadata": {},
   "outputs": [],
   "source": [
    "def univariate_barplots(data, col1, col2='project_is_approved', top=False):\n",
    "    # Count number of zeros in dataframe python: https://stackoverflow.com/a/51540521/4084039\n",
    "    temp = pd.DataFrame(project_df.groupby(col1)[col2].agg(lambda x: x.eq(1).sum())).reset_index()\n",
    "\n",
    "    # Pandas dataframe grouby count: https://stackoverflow.com/a/19385591/4084039\n",
    "    temp['total'] = pd.DataFrame(project_df.groupby(col1)[col2].agg(total='count')).reset_index()['total']\n",
    "    temp['Avg'] = pd.DataFrame(project_df.groupby(col1)[col2].agg(Avg='mean')).reset_index()['Avg']\n",
    "    \n",
    "    temp.sort_values(by=['total'],inplace=True, ascending=False)\n",
    "    \n",
    "    if top:\n",
    "        temp = temp[0:top]\n",
    "    \n",
    "    stack_plot(temp, xtick=col1, col2=col2, col3='total')\n",
    "    print(temp.head(5))\n",
    "    print(\"=\"*50)\n",
    "    print(temp.tail(5))"
   ]
  },
  {
   "cell_type": "code",
   "execution_count": 218,
   "id": "b35c2f2e",
   "metadata": {},
   "outputs": [
    {
     "data": {
      "image/png": "[encoded data removed]",
      "text/plain": [
       "<Figure size 1440x360 with 1 Axes>"
      ]
     },
     "metadata": {
      "needs_background": "light"
     },
     "output_type": "display_data"
    },
    {
     "name": "stdout",
     "output_type": "stream",
     "text": [
      "   school_state  project_is_approved  total       Avg\n",
      "4            CA                13205  15388  0.858136\n",
      "43           TX                 6014   7396  0.813142\n",
      "34           NY                 6291   7318  0.859661\n",
      "9            FL                 5144   6185  0.831690\n",
      "27           NC                 4353   5091  0.855038\n",
      "==================================================\n",
      "   school_state  project_is_approved  total       Avg\n",
      "39           RI                  243    285  0.852632\n",
      "26           MT                  200    245  0.816327\n",
      "28           ND                  127    143  0.888112\n",
      "50           WY                   82     98  0.836735\n",
      "46           VT                   64     80  0.800000\n"
     ]
    }
   ],
   "source": [
    "univariate_barplots(project_df, 'school_state', 'project_is_approved', False)"
   ]
  },
  {
   "cell_type": "markdown",
   "id": "47720700",
   "metadata": {},
   "source": [
    "- #### Teacher Prefix "
   ]
  },
  {
   "cell_type": "code",
   "execution_count": 219,
   "id": "d5608cff",
   "metadata": {},
   "outputs": [
    {
     "data": {
      "image/png": "[encoded data removed]",
      "text/plain": [
       "<Figure size 1440x360 with 1 Axes>"
      ]
     },
     "metadata": {
      "needs_background": "light"
     },
     "output_type": "display_data"
    },
    {
     "name": "stdout",
     "output_type": "stream",
     "text": [
      "  teacher_prefix  project_is_approved  total       Avg\n",
      "2           Mrs.                48997  57269  0.855559\n",
      "3            Ms.                32860  38955  0.843537\n",
      "1            Mr.                 8960  10648  0.841473\n",
      "4        Teacher                 1877   2360  0.795339\n",
      "0            Dr.                    9     13  0.692308\n",
      "==================================================\n",
      "  teacher_prefix  project_is_approved  total       Avg\n",
      "2           Mrs.                48997  57269  0.855559\n",
      "3            Ms.                32860  38955  0.843537\n",
      "1            Mr.                 8960  10648  0.841473\n",
      "4        Teacher                 1877   2360  0.795339\n",
      "0            Dr.                    9     13  0.692308\n"
     ]
    }
   ],
   "source": [
    "univariate_barplots(project_df, 'teacher_prefix', 'project_is_approved' , top=False)"
   ]
  },
  {
   "cell_type": "markdown",
   "id": "d703829f",
   "metadata": {},
   "source": [
    "As we can see here there are many projects submitted by teacher with prefix Mrs.\n",
    "Dr.s submits less number of projects."
   ]
  },
  {
   "cell_type": "markdown",
   "id": "699140a1",
   "metadata": {},
   "source": [
    "- #### Project grade category"
   ]
  },
  {
   "cell_type": "code",
   "execution_count": 220,
   "id": "34372672",
   "metadata": {},
   "outputs": [
    {
     "data": {
      "image/png": "[encoded data removed]",
      "text/plain": [
       "<Figure size 1440x360 with 1 Axes>"
      ]
     },
     "metadata": {
      "needs_background": "light"
     },
     "output_type": "display_data"
    },
    {
     "name": "stdout",
     "output_type": "stream",
     "text": [
      "  project_grade_category  project_is_approved  total       Avg\n",
      "3          Grades PreK-2                37536  44225  0.848751\n",
      "0             Grades 3-5                31729  37137  0.854377\n",
      "1             Grades 6-8                14258  16923  0.842522\n",
      "2            Grades 9-12                 9183  10963  0.837636\n",
      "==================================================\n",
      "  project_grade_category  project_is_approved  total       Avg\n",
      "3          Grades PreK-2                37536  44225  0.848751\n",
      "0             Grades 3-5                31729  37137  0.854377\n",
      "1             Grades 6-8                14258  16923  0.842522\n",
      "2            Grades 9-12                 9183  10963  0.837636\n"
     ]
    }
   ],
   "source": [
    "univariate_barplots(project_df, 'project_grade_category', 'project_is_approved', top=False)"
   ]
  },
  {
   "cell_type": "markdown",
   "id": "fe479d67",
   "metadata": {},
   "source": [
    "- #### project_subject_categories"
   ]
  },
  {
   "cell_type": "code",
   "execution_count": 221,
   "id": "44d1e011",
   "metadata": {},
   "outputs": [
    {
     "data": {
      "text/plain": [
       "numpy.ndarray"
      ]
     },
     "execution_count": 221,
     "metadata": {},
     "output_type": "execute_result"
    }
   ],
   "source": [
    "type(project_df['project_subject_categories'].values)"
   ]
  },
  {
   "cell_type": "code",
   "execution_count": 222,
   "id": "50ba96b8",
   "metadata": {},
   "outputs": [
    {
     "data": {
      "text/plain": [
       "list"
      ]
     },
     "execution_count": 222,
     "metadata": {},
     "output_type": "execute_result"
    }
   ],
   "source": [
    "type(list(project_df['project_subject_categories']))"
   ]
  },
  {
   "cell_type": "code",
   "execution_count": 223,
   "id": "4a351e84",
   "metadata": {},
   "outputs": [],
   "source": [
    "#split by comma\n",
    "#remove the\n",
    "#remove spaces\n",
    "#remove trailing spaces\n",
    "#replace &\n",
    "categories = list(project_df['project_subject_categories'].values)\n",
    "\n",
    "cat_list = []\n",
    "\n",
    "for i in categories:\n",
    "    temp = \"\"\n",
    "    for j in i.split(','):\n",
    "        if 'The' in j.split():\n",
    "            j=j.replace('The', '')\n",
    "        j=j.replace(' ','')\n",
    "        temp+=j.strip()+\" \"\n",
    "        temp = temp.replace('&','_')\n",
    "    cat_list.append(temp.strip())"
   ]
  },
  {
   "cell_type": "code",
   "execution_count": 224,
   "id": "e7d4e196",
   "metadata": {},
   "outputs": [
    {
     "data": {
      "text/html": [
       "<div>\n",
       "<style scoped>\n",
       "    .dataframe tbody tr th:only-of-type {\n",
       "        vertical-align: middle;\n",
       "    }\n",
       "\n",
       "    .dataframe tbody tr th {\n",
       "        vertical-align: top;\n",
       "    }\n",
       "\n",
       "    .dataframe thead th {\n",
       "        text-align: right;\n",
       "    }\n",
       "</style>\n",
       "<table border=\"1\" class=\"dataframe\">\n",
       "  <thead>\n",
       "    <tr style=\"text-align: right;\">\n",
       "      <th></th>\n",
       "      <th>Unnamed: 0</th>\n",
       "      <th>id</th>\n",
       "      <th>teacher_id</th>\n",
       "      <th>teacher_prefix</th>\n",
       "      <th>school_state</th>\n",
       "      <th>project_submitted_datetime</th>\n",
       "      <th>project_grade_category</th>\n",
       "      <th>project_subject_subcategories</th>\n",
       "      <th>project_title</th>\n",
       "      <th>project_essay_1</th>\n",
       "      <th>project_essay_2</th>\n",
       "      <th>project_essay_3</th>\n",
       "      <th>project_essay_4</th>\n",
       "      <th>project_resource_summary</th>\n",
       "      <th>teacher_number_of_previously_posted_projects</th>\n",
       "      <th>project_is_approved</th>\n",
       "      <th>clean_categories</th>\n",
       "    </tr>\n",
       "  </thead>\n",
       "  <tbody>\n",
       "    <tr>\n",
       "      <th>0</th>\n",
       "      <td>160221</td>\n",
       "      <td>p253737</td>\n",
       "      <td>c90749f5d961ff158d4b4d1e7dc665fc</td>\n",
       "      <td>Mrs.</td>\n",
       "      <td>IN</td>\n",
       "      <td>2016-12-05 13:43:57</td>\n",
       "      <td>Grades PreK-2</td>\n",
       "      <td>ESL, Literacy</td>\n",
       "      <td>Educational Support for English Learners at Home</td>\n",
       "      <td>My students are English learners that are work...</td>\n",
       "      <td>\\\"The limits of your language are the limits o...</td>\n",
       "      <td>NaN</td>\n",
       "      <td>NaN</td>\n",
       "      <td>My students need opportunities to practice beg...</td>\n",
       "      <td>0</td>\n",
       "      <td>0</td>\n",
       "      <td>Literacy_Language</td>\n",
       "    </tr>\n",
       "    <tr>\n",
       "      <th>1</th>\n",
       "      <td>140945</td>\n",
       "      <td>p258326</td>\n",
       "      <td>897464ce9ddc600bced1151f324dd63a</td>\n",
       "      <td>Mr.</td>\n",
       "      <td>FL</td>\n",
       "      <td>2016-10-25 09:22:10</td>\n",
       "      <td>Grades 6-8</td>\n",
       "      <td>Civics &amp; Government, Team Sports</td>\n",
       "      <td>Wanted: Projector for Hungry Learners</td>\n",
       "      <td>Our students arrive to our school eager to lea...</td>\n",
       "      <td>The projector we need for our school is very c...</td>\n",
       "      <td>NaN</td>\n",
       "      <td>NaN</td>\n",
       "      <td>My students need a projector to help with view...</td>\n",
       "      <td>7</td>\n",
       "      <td>1</td>\n",
       "      <td>History_Civics Health_Sports</td>\n",
       "    </tr>\n",
       "    <tr>\n",
       "      <th>2</th>\n",
       "      <td>21895</td>\n",
       "      <td>p182444</td>\n",
       "      <td>3465aaf82da834c0582ebd0ef8040ca0</td>\n",
       "      <td>Ms.</td>\n",
       "      <td>AZ</td>\n",
       "      <td>2016-08-31 12:03:56</td>\n",
       "      <td>Grades 6-8</td>\n",
       "      <td>Health &amp; Wellness, Team Sports</td>\n",
       "      <td>Soccer Equipment for AWESOME Middle School Stu...</td>\n",
       "      <td>\\r\\n\\\"True champions aren't always the ones th...</td>\n",
       "      <td>The students on the campus come to school know...</td>\n",
       "      <td>NaN</td>\n",
       "      <td>NaN</td>\n",
       "      <td>My students need shine guards, athletic socks,...</td>\n",
       "      <td>1</td>\n",
       "      <td>0</td>\n",
       "      <td>Health_Sports</td>\n",
       "    </tr>\n",
       "    <tr>\n",
       "      <th>3</th>\n",
       "      <td>45</td>\n",
       "      <td>p246581</td>\n",
       "      <td>f3cb9bffbba169bef1a77b243e620b60</td>\n",
       "      <td>Mrs.</td>\n",
       "      <td>KY</td>\n",
       "      <td>2016-10-06 21:16:17</td>\n",
       "      <td>Grades PreK-2</td>\n",
       "      <td>Literacy, Mathematics</td>\n",
       "      <td>Techie Kindergarteners</td>\n",
       "      <td>I work at a unique school filled with both ESL...</td>\n",
       "      <td>My students live in high poverty conditions wi...</td>\n",
       "      <td>NaN</td>\n",
       "      <td>NaN</td>\n",
       "      <td>My students need to engage in Reading and Math...</td>\n",
       "      <td>4</td>\n",
       "      <td>1</td>\n",
       "      <td>Literacy_Language Math_Science</td>\n",
       "    </tr>\n",
       "    <tr>\n",
       "      <th>4</th>\n",
       "      <td>172407</td>\n",
       "      <td>p104768</td>\n",
       "      <td>be1f7507a41f8479dc06f047086a39ec</td>\n",
       "      <td>Mrs.</td>\n",
       "      <td>TX</td>\n",
       "      <td>2016-07-11 01:10:09</td>\n",
       "      <td>Grades PreK-2</td>\n",
       "      <td>Mathematics</td>\n",
       "      <td>Interactive Math Tools</td>\n",
       "      <td>Our second grade classroom next year will be m...</td>\n",
       "      <td>For many students, math is a subject that does...</td>\n",
       "      <td>NaN</td>\n",
       "      <td>NaN</td>\n",
       "      <td>My students need hands on practice in mathemat...</td>\n",
       "      <td>1</td>\n",
       "      <td>1</td>\n",
       "      <td>Math_Science</td>\n",
       "    </tr>\n",
       "  </tbody>\n",
       "</table>\n",
       "</div>"
      ],
      "text/plain": [
       "   Unnamed: 0       id                        teacher_id teacher_prefix  \\\n",
       "0      160221  p253737  c90749f5d961ff158d4b4d1e7dc665fc           Mrs.   \n",
       "1      140945  p258326  897464ce9ddc600bced1151f324dd63a            Mr.   \n",
       "2       21895  p182444  3465aaf82da834c0582ebd0ef8040ca0            Ms.   \n",
       "3          45  p246581  f3cb9bffbba169bef1a77b243e620b60           Mrs.   \n",
       "4      172407  p104768  be1f7507a41f8479dc06f047086a39ec           Mrs.   \n",
       "\n",
       "  school_state project_submitted_datetime project_grade_category  \\\n",
       "0           IN        2016-12-05 13:43:57          Grades PreK-2   \n",
       "1           FL        2016-10-25 09:22:10             Grades 6-8   \n",
       "2           AZ        2016-08-31 12:03:56             Grades 6-8   \n",
       "3           KY        2016-10-06 21:16:17          Grades PreK-2   \n",
       "4           TX        2016-07-11 01:10:09          Grades PreK-2   \n",
       "\n",
       "      project_subject_subcategories  \\\n",
       "0                     ESL, Literacy   \n",
       "1  Civics & Government, Team Sports   \n",
       "2    Health & Wellness, Team Sports   \n",
       "3             Literacy, Mathematics   \n",
       "4                       Mathematics   \n",
       "\n",
       "                                       project_title  \\\n",
       "0   Educational Support for English Learners at Home   \n",
       "1              Wanted: Projector for Hungry Learners   \n",
       "2  Soccer Equipment for AWESOME Middle School Stu...   \n",
       "3                             Techie Kindergarteners   \n",
       "4                             Interactive Math Tools   \n",
       "\n",
       "                                     project_essay_1  \\\n",
       "0  My students are English learners that are work...   \n",
       "1  Our students arrive to our school eager to lea...   \n",
       "2  \\r\\n\\\"True champions aren't always the ones th...   \n",
       "3  I work at a unique school filled with both ESL...   \n",
       "4  Our second grade classroom next year will be m...   \n",
       "\n",
       "                                     project_essay_2 project_essay_3  \\\n",
       "0  \\\"The limits of your language are the limits o...             NaN   \n",
       "1  The projector we need for our school is very c...             NaN   \n",
       "2  The students on the campus come to school know...             NaN   \n",
       "3  My students live in high poverty conditions wi...             NaN   \n",
       "4  For many students, math is a subject that does...             NaN   \n",
       "\n",
       "  project_essay_4                           project_resource_summary  \\\n",
       "0             NaN  My students need opportunities to practice beg...   \n",
       "1             NaN  My students need a projector to help with view...   \n",
       "2             NaN  My students need shine guards, athletic socks,...   \n",
       "3             NaN  My students need to engage in Reading and Math...   \n",
       "4             NaN  My students need hands on practice in mathemat...   \n",
       "\n",
       "   teacher_number_of_previously_posted_projects  project_is_approved  \\\n",
       "0                                             0                    0   \n",
       "1                                             7                    1   \n",
       "2                                             1                    0   \n",
       "3                                             4                    1   \n",
       "4                                             1                    1   \n",
       "\n",
       "                 clean_categories  \n",
       "0               Literacy_Language  \n",
       "1    History_Civics Health_Sports  \n",
       "2                   Health_Sports  \n",
       "3  Literacy_Language Math_Science  \n",
       "4                    Math_Science  "
      ]
     },
     "execution_count": 224,
     "metadata": {},
     "output_type": "execute_result"
    }
   ],
   "source": [
    "project_df['clean_categories'] = cat_list\n",
    "project_df.drop(['project_subject_categories'], inplace=True, axis=1)\n",
    "project_df.head()"
   ]
  },
  {
   "cell_type": "code",
   "execution_count": 225,
   "id": "ee1299b8",
   "metadata": {},
   "outputs": [
    {
     "data": {
      "image/png": "[encoded data removed]",
      "text/plain": [
       "<Figure size 1440x360 with 1 Axes>"
      ]
     },
     "metadata": {
      "needs_background": "light"
     },
     "output_type": "display_data"
    },
    {
     "name": "stdout",
     "output_type": "stream",
     "text": [
      "                  clean_categories  project_is_approved  total       Avg\n",
      "24               Literacy_Language                20520  23655  0.867470\n",
      "32                    Math_Science                13991  17072  0.819529\n",
      "28  Literacy_Language Math_Science                12725  14636  0.869432\n",
      "8                    Health_Sports                 8640  10177  0.848973\n",
      "40                      Music_Arts                 4429   5180  0.855019\n",
      "==================================================\n",
      "                        clean_categories  project_is_approved  total       Avg\n",
      "41            Music_Arts AppliedLearning                    7     10  0.700000\n",
      "7     AppliedLearning Warmth Care_Hunger                    8     10  0.800000\n",
      "31  Literacy_Language Warmth Care_Hunger                    7      9  0.777778\n",
      "45         Music_Arts Warmth Care_Hunger                    1      2  0.500000\n",
      "23     History_Civics Warmth Care_Hunger                    0      1  0.000000\n"
     ]
    }
   ],
   "source": [
    "univariate_barplots(project_df, 'clean_categories', 'project_is_approved',top=False)"
   ]
  },
  {
   "cell_type": "markdown",
   "id": "42ecf8fa",
   "metadata": {},
   "source": [
    "- Literacy_Language has a very high rate of applications and project approval."
   ]
  },
  {
   "cell_type": "code",
   "execution_count": 226,
   "id": "b282062d",
   "metadata": {},
   "outputs": [],
   "source": [
    "from collections import Counter\n",
    "my_counter = Counter()\n",
    "for word in project_df['clean_categories'].values:\n",
    "    my_counter.update(word.split())"
   ]
  },
  {
   "cell_type": "code",
   "execution_count": 227,
   "id": "29ffbf99",
   "metadata": {},
   "outputs": [
    {
     "data": {
      "text/plain": [
       "Counter({'Literacy_Language': 52239,\n",
       "         'History_Civics': 5914,\n",
       "         'Health_Sports': 14223,\n",
       "         'Math_Science': 41421,\n",
       "         'SpecialNeeds': 13642,\n",
       "         'AppliedLearning': 12135,\n",
       "         'Music_Arts': 10293,\n",
       "         'Warmth': 1388,\n",
       "         'Care_Hunger': 1388})"
      ]
     },
     "execution_count": 227,
     "metadata": {},
     "output_type": "execute_result"
    }
   ],
   "source": [
    "my_counter"
   ]
  },
  {
   "cell_type": "code",
   "execution_count": 228,
   "id": "ed95893f",
   "metadata": {},
   "outputs": [
    {
     "data": {
      "image/png": "[encoded data removed]",
      "text/plain": [
       "<Figure size 1440x360 with 1 Axes>"
      ]
     },
     "metadata": {
      "needs_background": "light"
     },
     "output_type": "display_data"
    }
   ],
   "source": [
    "cat_dict = dict(my_counter)\n",
    "sorted_cat_dict = dict(sorted(cat_dict.items(), key=lambda kv: kv[1]))\n",
    "\n",
    "\n",
    "ind = np.arange(len(sorted_cat_dict))\n",
    "plt.figure(figsize=(20,5))\n",
    "p1 = plt.bar(ind, list(sorted_cat_dict.values()))\n",
    "\n",
    "plt.ylabel('Projects')\n",
    "plt.title('% of projects aproved state wise')\n",
    "plt.xticks(ind, list(sorted_cat_dict.keys()))\n",
    "plt.show()"
   ]
  },
  {
   "cell_type": "code",
   "execution_count": 229,
   "id": "c927c6ca",
   "metadata": {},
   "outputs": [
    {
     "name": "stdout",
     "output_type": "stream",
     "text": [
      "Warmth               :       1388\n",
      "Care_Hunger          :       1388\n",
      "History_Civics       :       5914\n",
      "Music_Arts           :      10293\n",
      "AppliedLearning      :      12135\n",
      "SpecialNeeds         :      13642\n",
      "Health_Sports        :      14223\n",
      "Math_Science         :      41421\n",
      "Literacy_Language    :      52239\n"
     ]
    }
   ],
   "source": [
    "for i, j in sorted_cat_dict.items():\n",
    "    print(\"{:20} : {:10}\".format(i,j))"
   ]
  },
  {
   "cell_type": "code",
   "execution_count": 230,
   "id": "5f3ae830",
   "metadata": {},
   "outputs": [
    {
     "data": {
      "text/html": [
       "<div>\n",
       "<style scoped>\n",
       "    .dataframe tbody tr th:only-of-type {\n",
       "        vertical-align: middle;\n",
       "    }\n",
       "\n",
       "    .dataframe tbody tr th {\n",
       "        vertical-align: top;\n",
       "    }\n",
       "\n",
       "    .dataframe thead th {\n",
       "        text-align: right;\n",
       "    }\n",
       "</style>\n",
       "<table border=\"1\" class=\"dataframe\">\n",
       "  <thead>\n",
       "    <tr style=\"text-align: right;\">\n",
       "      <th></th>\n",
       "      <th>Unnamed: 0</th>\n",
       "      <th>id</th>\n",
       "      <th>teacher_id</th>\n",
       "      <th>teacher_prefix</th>\n",
       "      <th>school_state</th>\n",
       "      <th>project_submitted_datetime</th>\n",
       "      <th>project_grade_category</th>\n",
       "      <th>project_title</th>\n",
       "      <th>project_essay_1</th>\n",
       "      <th>project_essay_2</th>\n",
       "      <th>project_essay_3</th>\n",
       "      <th>project_essay_4</th>\n",
       "      <th>project_resource_summary</th>\n",
       "      <th>teacher_number_of_previously_posted_projects</th>\n",
       "      <th>project_is_approved</th>\n",
       "      <th>clean_categories</th>\n",
       "      <th>clean_sub_categories</th>\n",
       "    </tr>\n",
       "  </thead>\n",
       "  <tbody>\n",
       "    <tr>\n",
       "      <th>0</th>\n",
       "      <td>160221</td>\n",
       "      <td>p253737</td>\n",
       "      <td>c90749f5d961ff158d4b4d1e7dc665fc</td>\n",
       "      <td>Mrs.</td>\n",
       "      <td>IN</td>\n",
       "      <td>2016-12-05 13:43:57</td>\n",
       "      <td>Grades PreK-2</td>\n",
       "      <td>Educational Support for English Learners at Home</td>\n",
       "      <td>My students are English learners that are work...</td>\n",
       "      <td>\\\"The limits of your language are the limits o...</td>\n",
       "      <td>NaN</td>\n",
       "      <td>NaN</td>\n",
       "      <td>My students need opportunities to practice beg...</td>\n",
       "      <td>0</td>\n",
       "      <td>0</td>\n",
       "      <td>Literacy_Language</td>\n",
       "      <td>ESL Literacy</td>\n",
       "    </tr>\n",
       "    <tr>\n",
       "      <th>1</th>\n",
       "      <td>140945</td>\n",
       "      <td>p258326</td>\n",
       "      <td>897464ce9ddc600bced1151f324dd63a</td>\n",
       "      <td>Mr.</td>\n",
       "      <td>FL</td>\n",
       "      <td>2016-10-25 09:22:10</td>\n",
       "      <td>Grades 6-8</td>\n",
       "      <td>Wanted: Projector for Hungry Learners</td>\n",
       "      <td>Our students arrive to our school eager to lea...</td>\n",
       "      <td>The projector we need for our school is very c...</td>\n",
       "      <td>NaN</td>\n",
       "      <td>NaN</td>\n",
       "      <td>My students need a projector to help with view...</td>\n",
       "      <td>7</td>\n",
       "      <td>1</td>\n",
       "      <td>History_Civics Health_Sports</td>\n",
       "      <td>Civics_Government TeamSports</td>\n",
       "    </tr>\n",
       "    <tr>\n",
       "      <th>2</th>\n",
       "      <td>21895</td>\n",
       "      <td>p182444</td>\n",
       "      <td>3465aaf82da834c0582ebd0ef8040ca0</td>\n",
       "      <td>Ms.</td>\n",
       "      <td>AZ</td>\n",
       "      <td>2016-08-31 12:03:56</td>\n",
       "      <td>Grades 6-8</td>\n",
       "      <td>Soccer Equipment for AWESOME Middle School Stu...</td>\n",
       "      <td>\\r\\n\\\"True champions aren't always the ones th...</td>\n",
       "      <td>The students on the campus come to school know...</td>\n",
       "      <td>NaN</td>\n",
       "      <td>NaN</td>\n",
       "      <td>My students need shine guards, athletic socks,...</td>\n",
       "      <td>1</td>\n",
       "      <td>0</td>\n",
       "      <td>Health_Sports</td>\n",
       "      <td>Health_Wellness TeamSports</td>\n",
       "    </tr>\n",
       "    <tr>\n",
       "      <th>3</th>\n",
       "      <td>45</td>\n",
       "      <td>p246581</td>\n",
       "      <td>f3cb9bffbba169bef1a77b243e620b60</td>\n",
       "      <td>Mrs.</td>\n",
       "      <td>KY</td>\n",
       "      <td>2016-10-06 21:16:17</td>\n",
       "      <td>Grades PreK-2</td>\n",
       "      <td>Techie Kindergarteners</td>\n",
       "      <td>I work at a unique school filled with both ESL...</td>\n",
       "      <td>My students live in high poverty conditions wi...</td>\n",
       "      <td>NaN</td>\n",
       "      <td>NaN</td>\n",
       "      <td>My students need to engage in Reading and Math...</td>\n",
       "      <td>4</td>\n",
       "      <td>1</td>\n",
       "      <td>Literacy_Language Math_Science</td>\n",
       "      <td>Literacy Mathematics</td>\n",
       "    </tr>\n",
       "    <tr>\n",
       "      <th>4</th>\n",
       "      <td>172407</td>\n",
       "      <td>p104768</td>\n",
       "      <td>be1f7507a41f8479dc06f047086a39ec</td>\n",
       "      <td>Mrs.</td>\n",
       "      <td>TX</td>\n",
       "      <td>2016-07-11 01:10:09</td>\n",
       "      <td>Grades PreK-2</td>\n",
       "      <td>Interactive Math Tools</td>\n",
       "      <td>Our second grade classroom next year will be m...</td>\n",
       "      <td>For many students, math is a subject that does...</td>\n",
       "      <td>NaN</td>\n",
       "      <td>NaN</td>\n",
       "      <td>My students need hands on practice in mathemat...</td>\n",
       "      <td>1</td>\n",
       "      <td>1</td>\n",
       "      <td>Math_Science</td>\n",
       "      <td>Mathematics</td>\n",
       "    </tr>\n",
       "  </tbody>\n",
       "</table>\n",
       "</div>"
      ],
      "text/plain": [
       "   Unnamed: 0       id                        teacher_id teacher_prefix  \\\n",
       "0      160221  p253737  c90749f5d961ff158d4b4d1e7dc665fc           Mrs.   \n",
       "1      140945  p258326  897464ce9ddc600bced1151f324dd63a            Mr.   \n",
       "2       21895  p182444  3465aaf82da834c0582ebd0ef8040ca0            Ms.   \n",
       "3          45  p246581  f3cb9bffbba169bef1a77b243e620b60           Mrs.   \n",
       "4      172407  p104768  be1f7507a41f8479dc06f047086a39ec           Mrs.   \n",
       "\n",
       "  school_state project_submitted_datetime project_grade_category  \\\n",
       "0           IN        2016-12-05 13:43:57          Grades PreK-2   \n",
       "1           FL        2016-10-25 09:22:10             Grades 6-8   \n",
       "2           AZ        2016-08-31 12:03:56             Grades 6-8   \n",
       "3           KY        2016-10-06 21:16:17          Grades PreK-2   \n",
       "4           TX        2016-07-11 01:10:09          Grades PreK-2   \n",
       "\n",
       "                                       project_title  \\\n",
       "0   Educational Support for English Learners at Home   \n",
       "1              Wanted: Projector for Hungry Learners   \n",
       "2  Soccer Equipment for AWESOME Middle School Stu...   \n",
       "3                             Techie Kindergarteners   \n",
       "4                             Interactive Math Tools   \n",
       "\n",
       "                                     project_essay_1  \\\n",
       "0  My students are English learners that are work...   \n",
       "1  Our students arrive to our school eager to lea...   \n",
       "2  \\r\\n\\\"True champions aren't always the ones th...   \n",
       "3  I work at a unique school filled with both ESL...   \n",
       "4  Our second grade classroom next year will be m...   \n",
       "\n",
       "                                     project_essay_2 project_essay_3  \\\n",
       "0  \\\"The limits of your language are the limits o...             NaN   \n",
       "1  The projector we need for our school is very c...             NaN   \n",
       "2  The students on the campus come to school know...             NaN   \n",
       "3  My students live in high poverty conditions wi...             NaN   \n",
       "4  For many students, math is a subject that does...             NaN   \n",
       "\n",
       "  project_essay_4                           project_resource_summary  \\\n",
       "0             NaN  My students need opportunities to practice beg...   \n",
       "1             NaN  My students need a projector to help with view...   \n",
       "2             NaN  My students need shine guards, athletic socks,...   \n",
       "3             NaN  My students need to engage in Reading and Math...   \n",
       "4             NaN  My students need hands on practice in mathemat...   \n",
       "\n",
       "   teacher_number_of_previously_posted_projects  project_is_approved  \\\n",
       "0                                             0                    0   \n",
       "1                                             7                    1   \n",
       "2                                             1                    0   \n",
       "3                                             4                    1   \n",
       "4                                             1                    1   \n",
       "\n",
       "                 clean_categories          clean_sub_categories  \n",
       "0               Literacy_Language                  ESL Literacy  \n",
       "1    History_Civics Health_Sports  Civics_Government TeamSports  \n",
       "2                   Health_Sports    Health_Wellness TeamSports  \n",
       "3  Literacy_Language Math_Science          Literacy Mathematics  \n",
       "4                    Math_Science                   Mathematics  "
      ]
     },
     "execution_count": 230,
     "metadata": {},
     "output_type": "execute_result"
    }
   ],
   "source": [
    "#split by comma\n",
    "#remove the\n",
    "#remove spaces\n",
    "#remove trailing spaces\n",
    "#replace &\n",
    "sub_categories = list(project_df['project_subject_subcategories'].values)\n",
    "\n",
    "sub_cat_list = []\n",
    "\n",
    "for i in sub_categories:\n",
    "    temp = \"\"\n",
    "    for j in i.split(','):\n",
    "        if 'The' in j.split():\n",
    "            j=j.replace('The', '')\n",
    "        j=j.replace(' ','')\n",
    "        temp+=j.strip()+\" \"\n",
    "        temp = temp.replace('&','_')\n",
    "    sub_cat_list.append(temp.strip())\n",
    "    \n",
    "project_df['clean_sub_categories'] = sub_cat_list\n",
    "project_df.drop(['project_subject_subcategories'], inplace=True, axis=1)\n",
    "project_df.head()"
   ]
  },
  {
   "cell_type": "code",
   "execution_count": 232,
   "id": "13cc7425",
   "metadata": {},
   "outputs": [
    {
     "data": {
      "image/png": "[encoded data removed]",
      "text/plain": [
       "<Figure size 1440x360 with 1 Axes>"
      ]
     },
     "metadata": {
      "needs_background": "light"
     },
     "output_type": "display_data"
    },
    {
     "name": "stdout",
     "output_type": "stream",
     "text": [
      "               clean_sub_categories  project_is_approved  total       Avg\n",
      "317                        Literacy                 8371   9486  0.882458\n",
      "319            Literacy Mathematics                 7260   8325  0.872072\n",
      "331  Literature_Writing Mathematics                 5140   5923  0.867803\n",
      "318     Literacy Literature_Writing                 4823   5571  0.865733\n",
      "342                     Mathematics                 4385   5379  0.815207\n",
      "==================================================\n",
      "                   clean_sub_categories  project_is_approved  total       Avg\n",
      "150                    EarlyDevelopment                  740    905  0.817680\n",
      "198    EnvironmentalScience Mathematics                  683    838  0.815036\n",
      "368                               Other                  701    831  0.843562\n",
      "273                  Health_LifeScience                  701    827  0.847642\n",
      "295  Health_Wellness NutritionEducation                  667    797  0.836888\n"
     ]
    }
   ],
   "source": [
    "univariate_barplots(project_df, 'clean_sub_categories', 'project_is_approved',top=30)"
   ]
  },
  {
   "cell_type": "code",
   "execution_count": 234,
   "id": "1b3ad803",
   "metadata": {},
   "outputs": [
    {
     "data": {
      "image/png": "[encoded data removed]",
      "text/plain": [
       "<Figure size 1440x360 with 1 Axes>"
      ]
     },
     "metadata": {
      "needs_background": "light"
     },
     "output_type": "display_data"
    }
   ],
   "source": [
    "from collections import Counter\n",
    "my_counter = Counter()\n",
    "for word in project_df['clean_sub_categories'].values:\n",
    "    my_counter.update(word.split())\n",
    "    \n",
    "sub_cat_dict = dict(my_counter)\n",
    "sorted_sub_cat_dict = dict(sorted(sub_cat_dict.items(), key=lambda kv: kv[1]))\n",
    "\n",
    "\n",
    "ind = np.arange(len(sorted_sub_cat_dict))\n",
    "plt.figure(figsize=(20,5))\n",
    "p1 = plt.bar(ind, list(sorted_sub_cat_dict.values()))\n",
    "\n",
    "plt.ylabel('Projects')\n",
    "plt.title('% of projects aproved state wise')\n",
    "plt.xticks(ind, list(sorted_sub_cat_dict.keys()))\n",
    "plt.show()"
   ]
  },
  {
   "cell_type": "code",
   "execution_count": 235,
   "id": "ed876c90",
   "metadata": {},
   "outputs": [
    {
     "name": "stdout",
     "output_type": "stream",
     "text": [
      "Economics            :        269\n",
      "CommunityService     :        441\n",
      "FinancialLiteracy    :        568\n",
      "ParentInvolvement    :        677\n",
      "Extracurricular      :        810\n",
      "Civics_Government    :        815\n",
      "ForeignLanguages     :        890\n",
      "NutritionEducation   :       1355\n",
      "Warmth               :       1388\n",
      "Care_Hunger          :       1388\n",
      "SocialSciences       :       1920\n",
      "PerformingArts       :       1961\n",
      "CharacterEducation   :       2065\n",
      "TeamSports           :       2192\n",
      "Other                :       2372\n",
      "College_CareerPrep   :       2568\n",
      "Music                :       3145\n",
      "History_Geography    :       3171\n",
      "Health_LifeScience   :       4235\n",
      "EarlyDevelopment     :       4254\n",
      "ESL                  :       4367\n",
      "Gym_Fitness          :       4509\n",
      "EnvironmentalScience :       5591\n",
      "VisualArts           :       6278\n",
      "Health_Wellness      :      10234\n",
      "AppliedSciences      :      10816\n",
      "SpecialNeeds         :      13642\n",
      "Literature_Writing   :      22179\n",
      "Mathematics          :      28074\n",
      "Literacy             :      33700\n"
     ]
    }
   ],
   "source": [
    "for i, j in sorted_sub_cat_dict.items():\n",
    "    print(\"{:20} : {:10}\".format(i,j))"
   ]
  },
  {
   "cell_type": "code",
   "execution_count": null,
   "id": "24bf68f5",
   "metadata": {},
   "outputs": [],
   "source": []
  }
 ],
 "metadata": {
  "kernelspec": {
   "display_name": "Python 3",
   "language": "python",
   "name": "python3"
  },
  "language_info": {
   "codemirror_mode": {
    "name": "ipython",
    "version": 3
   },
   "file_extension": ".py",
   "mimetype": "text/x-python",
   "name": "python",
   "nbconvert_exporter": "python",
   "pygments_lexer": "ipython3",
   "version": "3.8.8"
  }
 },
 "nbformat": 4,
 "nbformat_minor": 5
}
